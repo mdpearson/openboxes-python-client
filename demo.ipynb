{
    "metadata": {
        "language_info": {
            "name": "python",
            "version": "3.7.12",
            "mimetype": "text/x-python",
            "codemirror_mode": {
                "name": "ipython",
                "version": 3
            },
            "pygments_lexer": "ipython3",
            "nbconvert_exporter": "python",
            "file_extension": ".py"
        },
        "kernelspec": {
            "name": "python3",
            "display_name": "Python 3 (ipykernel)",
            "language": "python"
        }
    },
    "nbformat_minor": 5,
    "nbformat": 4,
    "cells": [
        {
            "cell_type": "code",
            "source": "import openboxes",
            "metadata": {
                "trusted": true
            },
            "execution_count": 1,
            "outputs": [],
            "id": "741b7803-3fae-45dc-825a-3154e2a9d815"
        },
        {
            "cell_type": "code",
            "source": "# of course, you'll need to supply your own credentials here\nlogin_body = openboxes.LoginRequest(\"username\", \"password\")",
            "metadata": {
                "trusted": true
            },
            "execution_count": 2,
            "outputs": [],
            "id": "ef28516b-1819-4b0b-be1a-c36fe7400b7a"
        },
        {
            "cell_type": "code",
            "source": "# log in and assign the cookie to Swagger's internal client\nsession = openboxes.AuthenticationApi()\nauth_header = session.login_with_http_info(login_body)\nsession.api_client.cookie = auth_header[-1][\"Set-Cookie\"]",
            "metadata": {
                "trusted": true
            },
            "execution_count": 3,
            "outputs": [],
            "id": "9da13599-7b2b-4ce3-a848-ddd4a677468b"
        },
        {
            "cell_type": "code",
            "source": "# Let's find out how many doses of ibuprofen are in a particular storage facility.",
            "metadata": {
                "trusted": true
            },
            "execution_count": 4,
            "outputs": [],
            "id": "84299357-690f-41ea-a318-050dae9a0c2e"
        },
        {
            "cell_type": "code",
            "source": "# first, we'll need to select a facility by name\ndepot = openboxes.LocationApi(session.api_client).list_locations(name=\"Cange Depot\").data[0]",
            "metadata": {},
            "execution_count": 5,
            "outputs": [],
            "id": "8bcada26-2c1a-4fdb-a4ac-e939500f569b"
        },
        {
            "cell_type": "code",
            "source": "# then, we'll specify that location as the target for future queries\n# (this call returns plain text indicating username and location name)\nopenboxes.ConfigurationApi(session.api_client).choose_location(id=depot.id)",
            "metadata": {
                "trusted": true
            },
            "execution_count":6,
            "outputs": [
                {
                    "execution_count": 6,
                    "output_type": "execute_result",
                    "data": {
                        "text/plain": "\"b'User Matt Pearson is now logged into Cange Depot'\""
                    },
                    "metadata": {}
                }
            ],
            "id": "a60235e4-d3c4-4c2a-ab61-80614cc8d2d1"
        },
        {
            "cell_type": "code",
            "source": "# now, get a list of products containing ibuprofen, again, fitering by name\nproducts = openboxes.ProductApi(session.api_client).list_products(name=\"ibuprofen\")",
            "metadata": {
                "trusted": true
            },
            "execution_count": 7,
            "outputs": [],
            "id": "0ee9a38d-f259-4bc0-b757-ccdf380a5857"
        },
        {
            "cell_type": "code",
            "source": "# retrieve availability of each product via a list comprehension\nstock_records = [\n    openboxes.ProductApi(session.api_client).product_availability(p.id)\n    for p in products.data\n]",
            "metadata": {
                "trusted": true
            },
            "execution_count": 8,
            "outputs": [],
            "id": "5e9a1613-81ed-40f9-9d08-e336d6b56404"
        },
        {
            "cell_type": "code",
            "source": "# sum up the quantity on hand for each bin associated with each SKU\nsum([bin_loc.quantity_on_hand for record in stock_records for bin_loc in record.data])",
            "metadata": {
                "trusted": true
            },
            "execution_count": 9,
            "outputs": [
                {
                    "execution_count": 9,
                    "output_type": "execute_result",
                    "data": {
                        "text/plain": "80580"
                    },
                    "metadata": {}
                }
            ],
            "id": "a7f90952-8f0b-4e50-9f15-2b5f85b2592a"
        }
    ]
}
